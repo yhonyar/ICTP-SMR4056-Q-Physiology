{
 "cells": [
  {
   "cell_type": "code",
   "execution_count": null,
   "id": "a780e690-1531-41c7-aee6-4b7166596404",
   "metadata": {},
   "outputs": [],
   "source": [
    "# Select numeric columns\n",
    "numeric_columns = df.select_dtypes(include=['number']).columns\n",
    "\n",
    "# Create a list to store results\n",
    "summary_list = []\n",
    "\n",
    "# Extract required information\n",
    "for y_column in numeric_columns:\n",
    "    max_value = df[y_column].max()\n",
    "    max_name = df[y_column].idxmax()  # Get the index (gene name) corresponding to max value\n",
    "    #gene = df['Unnamed: 0']\n",
    "    column_sum = df[y_column].sum()\n",
    "\n",
    "    summary_list.append({\n",
    "        #'Gene':gene,\n",
    "        \"Column\": y_column,\n",
    "        \"Max Gene\": max_name,\n",
    "        \"Max Value\": max_value,\n",
    "        \"Sum\": column_sum\n",
    "    })\n",
    "\n",
    "# Convert to DataFrame and display\n",
    "summary_df = pd.DataFrame(summary_list)\n",
    "\n",
    "summary_df"
   ]
  },
  {
   "cell_type": "code",
   "execution_count": null,
   "id": "826c9b17-1e94-4982-95d4-5a5b4de9248a",
   "metadata": {},
   "outputs": [],
   "source": [
    "column_names = df.select_dtypes(include=['number']).columns\n",
    "\n",
    "max_rows_list = []\n",
    "\n",
    "for col in column_names:\n",
    "    max_index = df[col].idxmax()  \n",
    "    max_row = df.loc[max_index]   \n",
    "    max_rows_list.append(max_row)\n",
    "\n",
    "max_rows_df = pd.concat(max_rows_list, axis=1)\n",
    "\n",
    "max_rows_df"
   ]
  },
  {
   "cell_type": "code",
   "execution_count": null,
   "id": "b2acf01d-133e-4631-9037-34e34b3a50c7",
   "metadata": {},
   "outputs": [],
   "source": [
    "#max_rows_df.iloc[:, 0]\n",
    "lpp_ordenado = max_rows_df.iloc[1:, 1:2]#.sort_values(by=1468, ascending=True)\n",
    "lpp_ordenado.columns = ['lpp']\n",
    "df_reset = lpp_ordenado.reset_index(drop=True)\n",
    "df_reset"
   ]
  }
 ],
 "metadata": {
  "kernelspec": {
   "display_name": "Python 3 (ipykernel)",
   "language": "python",
   "name": "python3"
  },
  "language_info": {
   "codemirror_mode": {
    "name": "ipython",
    "version": 3
   },
   "file_extension": ".py",
   "mimetype": "text/x-python",
   "name": "python",
   "nbconvert_exporter": "python",
   "pygments_lexer": "ipython3",
   "version": "3.12.7"
  }
 },
 "nbformat": 4,
 "nbformat_minor": 5
}
