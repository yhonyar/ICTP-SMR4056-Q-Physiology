{
 "cells": [
  {
   "cell_type": "code",
   "execution_count": 1,
   "id": "896c21b8",
   "metadata": {},
   "outputs": [],
   "source": [
    "import pandas as pd\n",
    "import matplotlib.pyplot as plt\n",
    "import seaborn as sns\n",
    "import numpy as np\n",
    "sns.set(style=\"whitegrid\")\n",
    "sns.set_theme()"
   ]
  },
  {
   "cell_type": "code",
   "execution_count": 2,
   "id": "d5c01e15",
   "metadata": {},
   "outputs": [],
   "source": [
    "df = pd.read_csv('transcriptomics_fractions.csv')\n",
    "df1 = pd.read_csv('samples_transcriptomics.csv', index_col='Unnamed: 0').set_index('Sample.ID')\n",
    "df2 = pd.read_csv('Ecoli_gene_functional_annotations.csv', encoding = 'cp1252', index_col='Unnamed: 0')"
   ]
  },
  {
   "cell_type": "code",
   "execution_count": 3,
   "id": "7e499806-df85-4838-b42b-915d67e2a1d3",
   "metadata": {},
   "outputs": [],
   "source": [
    "df_renamed = df.rename(columns={'Unnamed: 0': 'gene'})\n",
    "df_T = df_renamed.set_index('gene')\n",
    "df2_sorted = df2.dropna(subset=['gene']).sort_values(by='gene', ascending=True).reset_index(drop=True)\n",
    "df2_s = df2_sorted.set_index('gene')"
   ]
  },
  {
   "cell_type": "code",
   "execution_count": 4,
   "id": "be47ddc4-4e1d-4286-9d5a-5d1b372ac89a",
   "metadata": {},
   "outputs": [],
   "source": [
    "df_join = pd.merge(df2_s, df_T, left_index=True, right_index=True)"
   ]
  },
  {
   "cell_type": "code",
   "execution_count": 5,
   "id": "58eb78c7-9758-46f2-a27c-516c8fcbc4db",
   "metadata": {},
   "outputs": [],
   "source": [
    "Alim = df_join.loc[:,:'a4_1'].sort_values(by='top_cog_functional_cat', ascending=True)\n",
    "Clim = df_join.drop(df_join.columns[list(range(7,14)) + list(range(24, 35))], axis=1).sort_values(by='top_cog_functional_cat', ascending=True)\n",
    "Rlim = df_join.drop(df_join.columns[7:24], axis=1).sort_values(by='top_cog_functional_cat', ascending=True)"
   ]
  },
  {
   "cell_type": "code",
   "execution_count": 6,
   "id": "10785916-0303-4548-9c78-dfa4b32a917e",
   "metadata": {},
   "outputs": [],
   "source": [
    "def ffunctionality(group, functionality, a ,b):\n",
    "    'a, b =  0, 7 for Alim'\n",
    "    'a, b =  7, 17 for Clim'\n",
    "    'a, b =  17, 28 for Rlim'\n",
    "    func = group['top_cog_functional_cat'].tolist()\n",
    "    for raw in enumerate(func):\n",
    "        group_func = group[group['top_cog_functional_cat']==str(functionality)]\n",
    "        group_f= group_func.iloc[:,7:].T\n",
    "        #group_f['Growth.rate']= list(df1['Growth.rate..1.h.'][a:b])\n",
    "        group_f['Gene.sum'] = group_f.sum(axis=1)\n",
    "        group_ff = group_f['Gene.sum']\n",
    "    return pd.merge(df1[a:b][:], group_ff, left_index=True, right_index=True)"
   ]
  },
  {
   "cell_type": "code",
   "execution_count": 7,
   "id": "276f56be-fca8-4416-8a0e-ec01e48a40fe",
   "metadata": {},
   "outputs": [],
   "source": [
    "def Tcog_func(G_name, group, a, b):\n",
    "    func = list(dict.fromkeys(Alim['top_cog_functional_cat'].tolist()))\n",
    "    df_dict = {}\n",
    "    for i in func:\n",
    "        df_result = ffunctionality(group, i, a, b)\n",
    "        df_dict[f\"{G_name}_{i}\"] = df_result\n",
    "        #print(f\"{G_name}_{i}\")\n",
    "    return df_dict"
   ]
  },
  {
   "cell_type": "code",
   "execution_count": null,
   "id": "65b94c85-d551-421c-a018-7037ccd9b95f",
   "metadata": {},
   "outputs": [],
   "source": [
    "ATcog_func_by_functionality = Tcog_func(\"Alim\", Alim, 0, 7)"
   ]
  },
  {
   "cell_type": "code",
   "execution_count": null,
   "id": "e02c2302-80f3-43ae-8305-99d6c831e564",
   "metadata": {},
   "outputs": [],
   "source": [
    "CTcog_func_by_functionality = Tcog_func(\"Clim\", Clim, 7, 17)\n"
   ]
  },
  {
   "cell_type": "code",
   "execution_count": null,
   "id": "1814e036-8e84-4a5c-b0b6-6e95254c6245",
   "metadata": {},
   "outputs": [],
   "source": [
    "RTcog_func_by_functionality"
   ]
  },
  {
   "cell_type": "code",
   "execution_count": null,
   "id": "9f6031ae-7a65-4452-a3a3-8c955ff3d67b",
   "metadata": {},
   "outputs": [],
   "source": []
  },
  {
   "cell_type": "code",
   "execution_count": null,
   "id": "4a2c2b07-590a-4c70-848c-2ca58dcfbbd0",
   "metadata": {},
   "outputs": [],
   "source": []
  },
  {
   "cell_type": "code",
   "execution_count": null,
   "id": "ea0afae2-448d-420e-822a-402d046265a4",
   "metadata": {},
   "outputs": [],
   "source": []
  },
  {
   "cell_type": "code",
   "execution_count": null,
   "id": "683e6bae-02d6-4885-b21d-c75123804e5c",
   "metadata": {},
   "outputs": [],
   "source": []
  },
  {
   "cell_type": "code",
   "execution_count": null,
   "id": "c1a3ff33-25d9-4309-bcb8-fa05acc7bad4",
   "metadata": {},
   "outputs": [],
   "source": []
  },
  {
   "cell_type": "code",
   "execution_count": null,
   "id": "c4d878e6-bff5-44da-a01c-84d4729ad176",
   "metadata": {},
   "outputs": [],
   "source": []
  },
  {
   "cell_type": "code",
   "execution_count": null,
   "id": "e4788a4f-bb67-42f1-911b-a4d06a8a291f",
   "metadata": {},
   "outputs": [],
   "source": [
    "Tcog_func_by_functionality = Tcog_func(\"Alim\", Alim, 0, 7)\n",
    "for key, df in Tcog_func_by_functionality.items():\n",
    "    print(f\"{key}:\\n\", df)"
   ]
  },
  {
   "cell_type": "code",
   "execution_count": null,
   "id": "948b642f-2350-4d95-af58-5d9c75614e0f",
   "metadata": {},
   "outputs": [],
   "source": [
    "Tcog_func_by_functionality.items()"
   ]
  },
  {
   "cell_type": "code",
   "execution_count": null,
   "id": "fabadd43-11f5-437a-a61c-1256768e8b4e",
   "metadata": {},
   "outputs": [],
   "source": [
    "AlimA = ffunctionality(Alim, 'C', 0 , 7)\n",
    "AlimA"
   ]
  },
  {
   "cell_type": "code",
   "execution_count": null,
   "id": "4efa3e13-a205-4351-9452-7e27d7b6f454",
   "metadata": {},
   "outputs": [],
   "source": [
    "AlimC = ffunctionality(Alim, 'C', 0 , 7)"
   ]
  },
  {
   "cell_type": "code",
   "execution_count": null,
   "id": "040a4044-1aa1-4bde-abb5-907818eae297",
   "metadata": {},
   "outputs": [],
   "source": [
    "AlimCE = ffunctionality(Alim, 'D', 0 , 7)"
   ]
  },
  {
   "cell_type": "code",
   "execution_count": null,
   "id": "c02ba6fa-0628-4202-a9e1-3f3b4a9396fa",
   "metadata": {},
   "outputs": [],
   "source": [
    "plt.figure(figsize=(8, 5))\n",
    "\n",
    "for col in AlimCE.columns[9:-1]: \n",
    "    sns.lineplot(x=AlimCE['Growth.rate'], y=AlimCE[col], label=col, marker='o')\n",
    "\n",
    "plt.xlabel('Lambda')\n",
    "plt.ylabel('Conc')\n",
    "plt.title('Functionality CE')\n",
    "plt.legend()\n",
    "plt.grid(True)\n",
    "\n",
    "plt.show()"
   ]
  },
  {
   "cell_type": "code",
   "execution_count": null,
   "id": "216dda4a-3c73-4a10-923a-bfef32cf9e0d",
   "metadata": {},
   "outputs": [],
   "source": []
  },
  {
   "cell_type": "code",
   "execution_count": null,
   "id": "cf78fa8e-ec55-4ff8-ba01-4cb842557f1d",
   "metadata": {},
   "outputs": [],
   "source": [
    "def sepffuncionality(group, functionality, a, b):\n",
    "    func = group['cog_functional_cat'].tolist()\n",
    "    for i in func:\n",
    "        a = ffunctionality(group, functionality, a ,b)"
   ]
  },
  {
   "cell_type": "code",
   "execution_count": null,
   "id": "89ef629d-cd6b-4f3e-bd46-da178ca9620d",
   "metadata": {},
   "outputs": [],
   "source": [
    "func"
   ]
  },
  {
   "cell_type": "code",
   "execution_count": null,
   "id": "bbcfd4ff-e25e-49cc-9701-a79b0172fbdb",
   "metadata": {},
   "outputs": [],
   "source": [
    "func = list(dict.fromkeys(Alim['cog_functional_cat'].tolist()))\n",
    "for i in func:\n",
    "    Alim1 = str('Alim') + str(i) \n",
    "    A = ffunctionality(Alim, i, 0, 7)\n",
    "    print(Alim1)\n",
    "    print(A)"
   ]
  },
  {
   "cell_type": "code",
   "execution_count": null,
   "id": "88f6d98e-ef30-430a-81ee-dc61f8dc32a8",
   "metadata": {},
   "outputs": [],
   "source": [
    "func = list(dict.fromkeys(Alim['cog_functional_cat'].tolist()))"
   ]
  },
  {
   "cell_type": "code",
   "execution_count": null,
   "id": "32098ea3-2094-4650-93e4-0a1844470e01",
   "metadata": {},
   "outputs": [],
   "source": [
    "cols_per_figure = 4 \n",
    "\n",
    "for i in range(1, Alim.shape[1]-1, cols_per_figure):\n",
    "    fig, axes = plt.subplots(nrows=1, ncols=4, figsize=(16, 3))\n",
    "    axes = axes.flatten()  \n",
    "    \n",
    "    for j, col in enumerate(Alim.columns[i:i+cols_per_figure]):\n",
    "        ax = axes[j]\n",
    "        sns.lineplot(x=Alim['Growth.rate'], y=Alim[col], ax=ax, marker='o')\n",
    "        ax.set_title(f'{col}')\n",
    "        ax.set_xlabel('Lambda')\n",
    "        ax.set_ylabel('Conc.')\n",
    "    \n",
    "    plt.tight_layout()\n",
    "    plt.show()"
   ]
  },
  {
   "cell_type": "code",
   "execution_count": null,
   "id": "f9b80e3b-bf83-495a-b85e-ad35d79599db",
   "metadata": {},
   "outputs": [],
   "source": [
    "cols_per_figure = 4\n",
    "RlimC = ffunctionality(Rlim_sor, str(for i in func: print(i) , 17, 28)\n",
    "\n",
    "for i in range(0, RlimC.shape[1]-1, cols_per_figure):\n",
    "    fig, axes = plt.subplots(nrows=1, ncols=Alim_fA.shape[1]-1, figsize=(16, 3))\n",
    "    axes = axes.flatten()  \n",
    "    \n",
    "    for j, col in enumerate(Alim_fa.columns[i:i+cols_per_figure]):\n",
    "        ax = axes[j]\n",
    "        sns.lineplot(x=Alim_fa['Growth.rate'], y=Alim_fa[col], ax=ax, marker='o')\n",
    "        ax.set_title(f'Alim - A- {col}')\n",
    "        #ax.set_xlabel('Lambda')\n",
    "        ax.set_ylabel('Conc.')\n",
    "    \n",
    "    plt.tight_layout()\n",
    "    plt.show()"
   ]
  },
  {
   "cell_type": "code",
   "execution_count": null,
   "id": "58793455-5ff8-4dab-9cfe-2ca62d86dab6",
   "metadata": {},
   "outputs": [],
   "source": []
  },
  {
   "cell_type": "code",
   "execution_count": null,
   "id": "1e0af052-71c0-4854-acf9-819d045f3795",
   "metadata": {},
   "outputs": [],
   "source": [
    "df1_plus_AlimFa = df1[:][:7].merge(Alim_fa, how='inner', on='Sample.ID')\n",
    "df1_plus_AlimFa"
   ]
  },
  {
   "cell_type": "code",
   "execution_count": null,
   "id": "d2405006-8c5d-4283-b36f-6bf864f72247",
   "metadata": {},
   "outputs": [],
   "source": [
    "Alim_Sumplement60 = df1_plus_AlimFa[df1_plus_AlimFa['Supplement']=='60 µM IPTG']\n",
    "Alim_Sumplement40 = df1_plus_AlimFa[df1_plus_AlimFa['Supplement']=='40 µM IPTG']\n",
    "Alim_Sumplement28 = df1_plus_AlimFa[df1_plus_AlimFa['Supplement']=='28 µM IPTG']\n",
    "Alim_Sumplement20 = df1_plus_AlimFa[df1_plus_AlimFa['Supplement']=='20 µM IPTG']"
   ]
  },
  {
   "cell_type": "code",
   "execution_count": null,
   "id": "387ec667-c631-4fc9-910d-e518a070650c",
   "metadata": {},
   "outputs": [],
   "source": [
    "sns.scatterplot(x = Alim_fa['Growth.rate'], y = Alim_fa['rtcA']+Alim_fa['orn'], marker='o')\n",
    "#sns.lineplot(x = Alim_fa['Growth.rate'], y = Alim_fa['orn'], marker='o')\n",
    "#sns.lineplot(Alim_Sumplement28['Growth.rate'], df['orn'], marker='o')\n",
    "#sns.lineplot(Alim_Sumplement20['Growth.rate'], df['orn'], marker='o')\n",
    "plt.xlabel('Lambda')\n",
    "plt.ylabel('Conc')\n",
    "plt.title(f'Alim - A-')\n",
    "plt.legend()\n",
    "plt.show()"
   ]
  },
  {
   "cell_type": "code",
   "execution_count": null,
   "id": "9858ebd3-4899-403a-b7b1-5c5cc2d17d23",
   "metadata": {},
   "outputs": [],
   "source": [
    "cols_per_figure = 2\n",
    "\n",
    "for i in range(0, Alim_fA.shape[1]-1, cols_per_figure):\n",
    "    fig, axes = plt.subplots(nrows=1, ncols=Alim_fA.shape[1]-1, figsize=(16, 3))\n",
    "    axes = axes.flatten()  \n",
    "    \n",
    "    for j, col in enumerate(Alim_fa.columns[i:i+cols_per_figure]):\n",
    "        ax = axes[j]\n",
    "        sns.lineplot(x=Alim_fa['Growth.rate'], y=Alim_fa[col], ax=ax, marker='o')\n",
    "        ax.set_title(f'Alim - A- {col}')\n",
    "        #ax.set_xlabel('Lambda')\n",
    "        ax.set_ylabel('Conc.')\n",
    "    \n",
    "    plt.tight_layout()\n",
    "    plt.show()"
   ]
  },
  {
   "cell_type": "code",
   "execution_count": null,
   "id": "2acda755-2983-4467-92aa-94e83241f87e",
   "metadata": {},
   "outputs": [],
   "source": [
    " Alim_fA.shape[1]"
   ]
  },
  {
   "cell_type": "code",
   "execution_count": null,
   "id": "38ef5143-251d-4192-a960-122dd0226e2a",
   "metadata": {},
   "outputs": [],
   "source": [
    "import pandas as pd\n",
    "\n",
    "# Crear un DataFrame de ejemplo con 20 columnas\n",
    "data = {f'Col{i}': range(1, 6) for i in range(1, 21)}\n",
    "df = pd.DataFrame(data)\n",
    "\n",
    "# Eliminar columnas del 5 al 8 (índices 4 a 7) y del 14 al 20 (índices 13 a 19)\n",
    "df_filtrado = df.drop(df.columns[list(range(4, 8)) + list(range(13, 19))], axis=1)\n",
    "\n",
    "print(df_filtrado)"
   ]
  },
  {
   "cell_type": "code",
   "execution_count": null,
   "id": "670ec908-c6bb-42ba-9c8a-7530971da782",
   "metadata": {},
   "outputs": [],
   "source": []
  }
 ],
 "metadata": {
  "kernelspec": {
   "display_name": "Python 3 (ipykernel)",
   "language": "python",
   "name": "python3"
  },
  "language_info": {
   "codemirror_mode": {
    "name": "ipython",
    "version": 3
   },
   "file_extension": ".py",
   "mimetype": "text/x-python",
   "name": "python",
   "nbconvert_exporter": "python",
   "pygments_lexer": "ipython3",
   "version": "3.12.7"
  }
 },
 "nbformat": 4,
 "nbformat_minor": 5
}
