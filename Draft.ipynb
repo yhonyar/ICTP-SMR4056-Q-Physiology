{
 "cells": [
  {
   "cell_type": "code",
   "execution_count": null,
   "id": "a780e690-1531-41c7-aee6-4b7166596404",
   "metadata": {},
   "outputs": [],
   "source": [
    "# Select numeric columns\n",
    "numeric_columns = df.select_dtypes(include=['number']).columns\n",
    "\n",
    "# Create a list to store results\n",
    "summary_list = []\n",
    "\n",
    "# Extract required information\n",
    "for y_column in numeric_columns:\n",
    "    max_value = df[y_column].max()\n",
    "    max_name = df[y_column].idxmax()  # Get the index (gene name) corresponding to max value\n",
    "    #gene = df['Unnamed: 0']\n",
    "    column_sum = df[y_column].sum()\n",
    "\n",
    "    summary_list.append({\n",
    "        #'Gene':gene,\n",
    "        \"Column\": y_column,\n",
    "        \"Max Gene\": max_name,\n",
    "        \"Max Value\": max_value,\n",
    "        \"Sum\": column_sum\n",
    "    })\n",
    "\n",
    "# Convert to DataFrame and display\n",
    "summary_df = pd.DataFrame(summary_list)\n",
    "\n",
    "summary_df"
   ]
  },
  {
   "cell_type": "code",
   "execution_count": null,
   "id": "826c9b17-1e94-4982-95d4-5a5b4de9248a",
   "metadata": {},
   "outputs": [],
   "source": [
    "column_names = df.select_dtypes(include=['number']).columns\n",
    "\n",
    "max_rows_list = []\n",
    "\n",
    "for col in column_names:\n",
    "    max_index = df[col].idxmax()  \n",
    "    max_row = df.loc[max_index]   \n",
    "    max_rows_list.append(max_row)\n",
    "\n",
    "max_rows_df = pd.concat(max_rows_list, axis=1)\n",
    "\n",
    "max_rows_df"
   ]
  },
  {
   "cell_type": "code",
   "execution_count": null,
   "id": "b2acf01d-133e-4631-9037-34e34b3a50c7",
   "metadata": {},
   "outputs": [],
   "source": [
    "#max_rows_df.iloc[:, 0]\n",
    "lpp_ordenado = max_rows_df.iloc[1:, 1:2]#.sort_values(by=1468, ascending=True)\n",
    "lpp_ordenado.columns = ['lpp']\n",
    "df_reset = lpp_ordenado.reset_index(drop=True)\n",
    "df_reset"
   ]
  },
  {
   "cell_type": "code",
   "execution_count": null,
   "id": "b47c6e28-6c42-484d-a300-696e72b127b7",
   "metadata": {},
   "outputs": [],
   "source": [
    "df5 = df1[['Sample.ID','Growth.rate..1.h.']]\n",
    "df5"
   ]
  },
  {
   "cell_type": "code",
   "execution_count": null,
   "id": "ed6be6f3-59eb-4f8d-b480-7eff992cd15a",
   "metadata": {},
   "outputs": [],
   "source": [
    "df_combined = pd.concat([df5, df_reset], axis=1)\n",
    "df_combined"
   ]
  },
  {
   "cell_type": "code",
   "execution_count": null,
   "id": "af9b19ab-594b-446e-9b65-60c8fab6c0ee",
   "metadata": {},
   "outputs": [],
   "source": [
    "df6 = df_combined.sort_values(by='Growth.rate..1.h.', ascending = True)"
   ]
  },
  {
   "cell_type": "code",
   "execution_count": null,
   "id": "5bcdc2ba-0d2d-4dc5-b99e-bc23c710748a",
   "metadata": {},
   "outputs": [],
   "source": [
    "plt.figure(figsize=(6, 4))\n",
    "sns.lineplot(x=df6['Growth.rate..1.h.'], y=df6['lpp'], marker='o')\n",
    "plt.title('')\n",
    "plt.xlabel('Growth rate')\n",
    "plt.ylabel('Abundance')"
   ]
  },
  {
   "cell_type": "code",
   "execution_count": null,
   "id": "240a7dc2-0ca9-4fdd-bd05-da6e6da42fdd",
   "metadata": {},
   "outputs": [],
   "source": [
    "cols_per_figure = 4 \n",
    "\n",
    "for i in range(1, df.shape[1], cols_per_figure):\n",
    "    fig, axes = plt.subplots(nrows=1, ncols=4, figsize=(16, 3))\n",
    "    axes = axes.flatten()  \n",
    "    \n",
    "    for j, col in enumerate(df.columns[i:i+cols_per_figure]):\n",
    "        ax = axes[j]\n",
    "        sns.lineplot(x=df.index, y=df[col], ax=ax, marker='o')\n",
    "        ax.set_title(f'{col}')\n",
    "        #ax.set_xlabel('')\n",
    "        ax.set_ylabel('Conc.')\n",
    "    \n",
    "    plt.tight_layout()\n",
    "    plt.show()"
   ]
  },
  {
   "cell_type": "code",
   "execution_count": null,
   "id": "8f11531a-8f5e-449b-aa0d-c79b80282af2",
   "metadata": {},
   "outputs": [],
   "source": [
    "#df_sorted = df1.sort_values(by='Unnamed: 0', ascending=True)\n",
    "#df_sorted"
   ]
  },
  {
   "cell_type": "code",
   "execution_count": null,
   "id": "c8ae9d8e-3a36-446d-8538-6ece31afb0d7",
   "metadata": {},
   "outputs": [],
   "source": [
    "groups = df1['Group'].unique()  \n",
    "\n",
    "for group in groups:\n",
    "    df1_filtrado = df1[df1['Group'] == group]\n",
    "    \n",
    "    plt.figure(figsize=(6, 4))\n",
    "    #sns.lineplot(x=df1_filtrado['Growth.rate..1.h.'], y=df1_filtrado.index, marker='o')\n",
    "    sns.barplot(x=df1_filtrado['Sample.ID'], y=df1_filtrado['Growth.rate..1.h.'])\n",
    "    plt.title(f'{group}')\n",
    "    plt.xlabel('')\n",
    "    plt.ylabel('Growth rate')\n",
    "    plt.show()"
   ]
  },
  {
   "cell_type": "code",
   "execution_count": null,
   "id": "1f4106fa-4fd4-4b85-b935-3bd83c67d67c",
   "metadata": {},
   "outputs": [],
   "source": [
    "plt.figure(figsize=(6, 4))\n",
    "sns.lineplot(x=df2['Unnamed: 0'], y=df2['protein_len'], marker='o')\n",
    "#sns.barplot(x=df1_filtrado['Sample.ID'], y=df1_filtrado['Growth.rate..1.h.'])\n",
    "plt.title('protein_len')\n",
    "plt.xlabel('')\n",
    "plt.ylabel('')"
   ]
  },
  {
   "cell_type": "code",
   "execution_count": null,
   "id": "0f0cbace-8e9f-4c9a-a66c-e4bbd41a96a5",
   "metadata": {},
   "outputs": [],
   "source": [
    "cols_per_figure = 4 \n",
    "\n",
    "for i in range(1, Alim.shape[1]-1, cols_per_figure):\n",
    "    fig, axes = plt.subplots(nrows=1, ncols=4, figsize=(16, 3))\n",
    "    axes = axes.flatten()  \n",
    "    \n",
    "    for j, col in enumerate(Alim.columns[i:i+cols_per_figure]):\n",
    "        ax = axes[j]\n",
    "        sns.lineplot(x=Alim['Growth.rate'], y=Alim[col], ax=ax, marker='o')\n",
    "        ax.set_title(f'{col}')\n",
    "        ax.set_xlabel('Lambda')\n",
    "        ax.set_ylabel('Conc.')\n",
    "    \n",
    "    plt.tight_layout()\n",
    "    plt.show()"
   ]
  },
  {
   "cell_type": "code",
   "execution_count": null,
   "id": "cc38e863-2dae-4c3e-bbbd-a15bc731bdb5",
   "metadata": {},
   "outputs": [],
   "source": [
    "def plot_fig():\n",
    "    cols_per_figure = 4 \n",
    "    \n",
    "    for i in range(1, Alim.shape[1]-1, cols_per_figure):\n",
    "        fig, axes = plt.subplots(nrows=1, ncols=4, figsize=(16, 3))\n",
    "        axes = axes.flatten()  \n",
    "        for j, col in enumerate(Alim.columns[i:i+cols_per_figure]):\n",
    "            ax = axes[j]\n",
    "            sns.lineplot(x=Alim['Growth.rate'], y=Alim[col], ax=ax, marker='o')\n",
    "            ax.set_title(f'{col}')\n",
    "            ax.set_xlabel('Lambda')\n",
    "            ax.set_ylabel('Conc.')\n",
    "        plt.tight_layout()\n",
    "        plt.show()\n",
    "    return plt.show()"
   ]
  },
  {
   "cell_type": "code",
   "execution_count": null,
   "id": "1b63d2cc-c42f-44a3-bdbc-42ed0fc068fb",
   "metadata": {},
   "outputs": [],
   "source": [
    "df_sorted = df2.sort_values(by='gene', ascending=True).reset_index(drop=True)\n",
    "df_sorted.info()"
   ]
  },
  {
   "cell_type": "code",
   "execution_count": null,
   "id": "a0c91855-a623-4caa-924c-12f5b9d3b17a",
   "metadata": {},
   "outputs": [],
   "source": [
    "df3 = pd.read_csv('transcriptomics_fractions.csv')\n",
    "df3.loc[:, ~df3.T.duplicated()]"
   ]
  },
  {
   "cell_type": "code",
   "execution_count": null,
   "id": "9a98ef47-f54e-41ef-9e0e-f37a4171a7fd",
   "metadata": {},
   "outputs": [],
   "source": [
    "Alim = df.iloc[:,:7].T\n",
    "Alim['Growth.rate']= list(df1['Growth.rate..1.h.'][:7])\n",
    "Alim"
   ]
  },
  {
   "cell_type": "code",
   "execution_count": null,
   "id": "3559f667-9107-4a2b-8d5b-8d6bbf4a5049",
   "metadata": {},
   "outputs": [],
   "source": [
    "df_filtered = df[(df.index).isin(df2_sorted['gene'])]\n",
    "df_filtered"
   ]
  },
  {
   "cell_type": "code",
   "execution_count": null,
   "id": "25a9e68b-a87d-4f09-88ac-026bd1f6e5fb",
   "metadata": {},
   "outputs": [],
   "source": [
    "df2_filtered = df2_sorted[df2_sorted['gene'].isin(df.index)]\n",
    "df2_filtered"
   ]
  },
  {
   "cell_type": "markdown",
   "id": "8c17595a-1119-4394-84c7-bc394880c0b6",
   "metadata": {},
   "source": [
    "## How does the abundance of transcripts (proteins) change with the growth rate?"
   ]
  },
  {
   "cell_type": "code",
   "execution_count": 3,
   "id": "82d2b46f-7c1d-45d3-867f-ca8bb5b0a276",
   "metadata": {},
   "outputs": [],
   "source": [
    "import pandas as pd"
   ]
  },
  {
   "cell_type": "code",
   "execution_count": 4,
   "id": "be21742d-9174-42fc-89e8-5610e2e4b82b",
   "metadata": {},
   "outputs": [
    {
     "data": {
      "text/html": [
       "<div>\n",
       "<style scoped>\n",
       "    .dataframe tbody tr th:only-of-type {\n",
       "        vertical-align: middle;\n",
       "    }\n",
       "\n",
       "    .dataframe tbody tr th {\n",
       "        vertical-align: top;\n",
       "    }\n",
       "\n",
       "    .dataframe thead th {\n",
       "        text-align: right;\n",
       "    }\n",
       "</style>\n",
       "<table border=\"1\" class=\"dataframe\">\n",
       "  <thead>\n",
       "    <tr style=\"text-align: right;\">\n",
       "      <th></th>\n",
       "      <th>a</th>\n",
       "      <th>b</th>\n",
       "    </tr>\n",
       "  </thead>\n",
       "  <tbody>\n",
       "    <tr>\n",
       "      <th>0</th>\n",
       "      <td>foo</td>\n",
       "      <td>1</td>\n",
       "    </tr>\n",
       "    <tr>\n",
       "      <th>1</th>\n",
       "      <td>bar</td>\n",
       "      <td>2</td>\n",
       "    </tr>\n",
       "  </tbody>\n",
       "</table>\n",
       "</div>"
      ],
      "text/plain": [
       "     a  b\n",
       "0  foo  1\n",
       "1  bar  2"
      ]
     },
     "execution_count": 4,
     "metadata": {},
     "output_type": "execute_result"
    }
   ],
   "source": [
    "df1 = pd.DataFrame({'a': ['foo', 'bar'], 'b': [1, 2]})\n",
    "df2 = pd.DataFrame({'a': ['foo', 'baz'], 'c': [3, 4]})\n",
    "df1"
   ]
  },
  {
   "cell_type": "code",
   "execution_count": 5,
   "id": "de74a913-8c6a-450b-ac61-915402110a74",
   "metadata": {},
   "outputs": [
    {
     "data": {
      "text/html": [
       "<div>\n",
       "<style scoped>\n",
       "    .dataframe tbody tr th:only-of-type {\n",
       "        vertical-align: middle;\n",
       "    }\n",
       "\n",
       "    .dataframe tbody tr th {\n",
       "        vertical-align: top;\n",
       "    }\n",
       "\n",
       "    .dataframe thead th {\n",
       "        text-align: right;\n",
       "    }\n",
       "</style>\n",
       "<table border=\"1\" class=\"dataframe\">\n",
       "  <thead>\n",
       "    <tr style=\"text-align: right;\">\n",
       "      <th></th>\n",
       "      <th>a</th>\n",
       "      <th>c</th>\n",
       "    </tr>\n",
       "  </thead>\n",
       "  <tbody>\n",
       "    <tr>\n",
       "      <th>0</th>\n",
       "      <td>foo</td>\n",
       "      <td>3</td>\n",
       "    </tr>\n",
       "    <tr>\n",
       "      <th>1</th>\n",
       "      <td>baz</td>\n",
       "      <td>4</td>\n",
       "    </tr>\n",
       "  </tbody>\n",
       "</table>\n",
       "</div>"
      ],
      "text/plain": [
       "     a  c\n",
       "0  foo  3\n",
       "1  baz  4"
      ]
     },
     "execution_count": 5,
     "metadata": {},
     "output_type": "execute_result"
    }
   ],
   "source": [
    "df2"
   ]
  },
  {
   "cell_type": "code",
   "execution_count": 6,
   "id": "b6170afa-2032-4454-aa25-457fae0e855a",
   "metadata": {},
   "outputs": [
    {
     "data": {
      "text/html": [
       "<div>\n",
       "<style scoped>\n",
       "    .dataframe tbody tr th:only-of-type {\n",
       "        vertical-align: middle;\n",
       "    }\n",
       "\n",
       "    .dataframe tbody tr th {\n",
       "        vertical-align: top;\n",
       "    }\n",
       "\n",
       "    .dataframe thead th {\n",
       "        text-align: right;\n",
       "    }\n",
       "</style>\n",
       "<table border=\"1\" class=\"dataframe\">\n",
       "  <thead>\n",
       "    <tr style=\"text-align: right;\">\n",
       "      <th></th>\n",
       "      <th>a</th>\n",
       "      <th>b</th>\n",
       "      <th>c</th>\n",
       "    </tr>\n",
       "  </thead>\n",
       "  <tbody>\n",
       "    <tr>\n",
       "      <th>0</th>\n",
       "      <td>foo</td>\n",
       "      <td>1</td>\n",
       "      <td>3</td>\n",
       "    </tr>\n",
       "  </tbody>\n",
       "</table>\n",
       "</div>"
      ],
      "text/plain": [
       "     a  b  c\n",
       "0  foo  1  3"
      ]
     },
     "execution_count": 6,
     "metadata": {},
     "output_type": "execute_result"
    }
   ],
   "source": [
    "df1.merge(df2, how='inner', on='a')"
   ]
  },
  {
   "cell_type": "code",
   "execution_count": null,
   "id": "9dede91f-bb88-4f77-84e0-0c925ee39d29",
   "metadata": {},
   "outputs": [],
   "source": [
    "Alim_func = Alim_sor[Alim_sor['top_cog_functional_cat']=='A']\n",
    "Alim_fA = Alim_func.iloc[:,7:].T\n",
    "Alim_fA['Growth.rate']= list(df1['Growth.rate..1.h.'][:7])\n",
    "Alim_fa = Alim_fA\n",
    "#Alim_fa.index.name = None\n",
    "#Alim_fa.index.name = 'Sample.ID'"
   ]
  },
  {
   "cell_type": "code",
   "execution_count": null,
   "id": "7387163e-ee8d-464f-9710-f7330e7290a9",
   "metadata": {},
   "outputs": [],
   "source": [
    "Alim = dfG.iloc[:,:7]\n",
    "#Alim['Growth.rate']= list(df1['Growth.rate..1.h.'][:7])\n",
    "dfE_plus_Alim = pd.merge(dfE, Alim, left_index=True, right_index=True)\n",
    "Alim_sor = dfE_plus_Alim.sort_values(by='cog_functional_cat', ascending=True)"
   ]
  },
  {
   "cell_type": "code",
   "execution_count": null,
   "id": "90e6d245-c790-4d8a-9587-b4210ce8645f",
   "metadata": {},
   "outputs": [],
   "source": [
    "dfE = df_join.loc[:,:'functional_category_desc']\n",
    "dfG = df_join.loc[:,'a1':]"
   ]
  },
  {
   "cell_type": "code",
   "execution_count": null,
   "id": "50862a7a-155e-4719-b0b2-480bef176908",
   "metadata": {},
   "outputs": [],
   "source": [
    "def ffunctionality(group, functionality, a ,b):\n",
    "    'a, b =  0, 7 for Alim_sor'\n",
    "    'a, b =  7, 17 for Clim_sor'\n",
    "    'a, b =  17, 28 for Rlim_sor'\n",
    "    func = group['cog_functional_cat'].tolist()\n",
    "    for raw in enumerate(func):\n",
    "        group_func = group[group['cog_functional_cat']==str(functionality)]\n",
    "        group_f= group_func.iloc[:,7:].T\n",
    "        group_f['Growth.rate']= list(df1['Growth.rate..1.h.'][a:b])\n",
    "        group_ff = group_f\n",
    "    return group_ff"
   ]
  }
 ],
 "metadata": {
  "kernelspec": {
   "display_name": "Python 3 (ipykernel)",
   "language": "python",
   "name": "python3"
  },
  "language_info": {
   "codemirror_mode": {
    "name": "ipython",
    "version": 3
   },
   "file_extension": ".py",
   "mimetype": "text/x-python",
   "name": "python",
   "nbconvert_exporter": "python",
   "pygments_lexer": "ipython3",
   "version": "3.12.7"
  }
 },
 "nbformat": 4,
 "nbformat_minor": 5
}
