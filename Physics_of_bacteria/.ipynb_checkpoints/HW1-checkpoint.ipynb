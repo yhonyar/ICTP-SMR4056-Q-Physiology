{
 "cells": [
  {
   "cell_type": "code",
   "execution_count": null,
   "id": "83a7c45d-6814-4ec4-9f05-63bddd2f6850",
   "metadata": {},
   "outputs": [],
   "source": [
    "import numpy as np\n",
    "import matplotlib.pyplot as plt\n",
    "\n",
    "p = 5e-9  # Mutation probability\n",
    "N0 = 100  # Initial population\n",
    "generation_num = 20  # Number of generations\n",
    "experiment_number = 10000  # Number of experiments\n",
    "\n",
    "Nf = N0 * 2**generation_num  # Final population\n",
    "res = []\n",
    "\n",
    "for _ in range(experiment_number):\n",
    "    mutant = 0\n",
    "    non_mutant = N0\n",
    "    \n",
    "    for _ in range(generation_num):\n",
    "        tmp = np.random.poisson(2 * p * non_mutant)\n",
    "        mutant = 2 * mutant + tmp\n",
    "        non_mutant = 2 * non_mutant - tmp\n",
    "    \n",
    "    res.append(mutant)\n",
    "\n",
    "bins = np.arange(11)  # Bins from 0 to 10\n",
    "hist, _ = np.histogram(res, bins=bins, density=True)  # Normalize to get probability distribution\n",
    "\n",
    "plt.bar(bins[:-1], hist, width=1, align='edge')\n",
    "plt.xlabel('Survivor Number')\n",
    "plt.ylabel('Probability Distribution')\n",
    "plt.title('')\n",
    "plt.show()"
   ]
  },
  {
   "cell_type": "markdown",
   "id": "9fe09d15-4cb7-4e3f-93b4-e103bfff1dde",
   "metadata": {},
   "source": [
    "### Luria-Delbruck with two mutations\n",
    "Consider a scenario in which the bacterium needs two mutations to occur at particular places in its genome in order to be resistant to the virus. A biologist repeats the Delbruck-Luria experiment (with n=400, C=1000) and finds the following distribution p(m) for the survivor number probability distribution after 20 generations. Use this data to estimate the mutation rate.\n",
    "Hint: one way to approach this is using numerical simulations, by adapting the code shown in the notes."
   ]
  },
  {
   "cell_type": "code",
   "execution_count": null,
   "id": "a18cd501-8889-4a69-9f9a-a735221d07b9",
   "metadata": {},
   "outputs": [],
   "source": [
    "import numpy as np\n",
    "import matplotlib.pyplot as plt\n",
    "\n",
    "mutant_rate = 6e-8\n",
    "trial_num = 1000\n",
    "generation_num = 20\n",
    "res = []\n",
    "\n",
    "for _ in range(trial_num):\n",
    "    mutant_num = 0\n",
    "    non_mutant = 10\n",
    "    \n",
    "    for _ in range(generation_num):\n",
    "        total_1 = 2 * non_mutant\n",
    "        total_2 = 2 * mutant_num\n",
    "        \n",
    "        tmp1 = np.random.poisson(mutant_rate * total_1)\n",
    "        \n",
    "        mutant_num = total_2 + tmp1\n",
    "        non_mutant = total_1 - tmp1\n",
    "    \n",
    "    res.append(mutant_num)\n",
    "\n",
    "bins = np.arange(1, 51)\n",
    "q, _ = np.histogram(res, bins=bins)\n",
    "plt.bar(bins[:-1], q, align='center', width=1)\n",
    "plt.xlabel('Survivors')\n",
    "plt.ylabel('Relative probability')\n",
    "plt.show()"
   ]
  },
  {
   "cell_type": "code",
   "execution_count": 1,
   "id": "566a11bd-98b1-4cd4-a7e3-691b01f4cada",
   "metadata": {},
   "outputs": [
    {
     "data": {
      "image/png": "[encoded data removed]",
      "text/plain": [
       "<Figure size 640x480 with 1 Axes>"
      ]
     },
     "metadata": {},
     "output_type": "display_data"
    },
    {
     "name": "stdout",
     "output_type": "stream",
     "text": [
      "Variance / Mean: nan\n"
     ]
    },
    {
     "name": "stderr",
     "output_type": "stream",
     "text": [
      "C:\\Users\\ymamani\\AppData\\Local\\Temp\\ipykernel_8008\\963531503.py:46: RuntimeWarning: invalid value encountered in scalar divide\n",
      "  print(\"Variance / Mean:\", np.var(res) / np.mean(res))\n"
     ]
    }
   ],
   "source": [
    "import numpy as np\n",
    "import matplotlib.pyplot as plt\n",
    "\n",
    "# Given parameters\n",
    "n = 400  # Number of cultures\n",
    "C = 1000  # Initial number of bacteria per culture\n",
    "generations = 20\n",
    "\n",
    "# Mutation rates (to be estimated)\n",
    "mutant_rate_1 = 6e-8  # First mutation\n",
    "mutant_rate_2 = 6e-8  # Second mutation\n",
    "\n",
    "res = []\n",
    "\n",
    "for _ in range(n):\n",
    "    non_mutant = C\n",
    "    first_mutant = 0\n",
    "    resistant = 0\n",
    "    \n",
    "    for _ in range(generations):\n",
    "        total_1 = 2 * non_mutant\n",
    "        total_2 = 2 * first_mutant\n",
    "        total_3 = 2 * resistant\n",
    "        \n",
    "        # First mutation occurs in non-mutant population\n",
    "        new_first_mutants = np.random.poisson(mutant_rate_1 * total_1)\n",
    "        \n",
    "        # Second mutation occurs in first_mutant population\n",
    "        new_resistants = np.random.poisson(mutant_rate_2 * total_2)\n",
    "        \n",
    "        # Update populations\n",
    "        first_mutant = total_2 + new_first_mutants - new_resistants\n",
    "        resistant = total_3 + new_resistants\n",
    "        non_mutant = total_1 - new_first_mutants\n",
    "    \n",
    "    res.append(resistant)\n",
    "\n",
    "# Plot results\n",
    "bins = np.arange(1, 51)\n",
    "q, _ = np.histogram(res, bins=bins)\n",
    "plt.bar(bins[:-1], q, align='center', width=1)\n",
    "plt.xlabel('Survivors')\n",
    "plt.ylabel('Relative probability')\n",
    "plt.show()\n",
    "\n",
    "print(\"Variance / Mean:\", np.var(res) / np.mean(res))"
   ]
  },
  {
   "cell_type": "code",
   "execution_count": null,
   "id": "1bad26b3-a040-484f-bd4f-8b4499f61a95",
   "metadata": {},
   "outputs": [],
   "source": []
  }
 ],
 "metadata": {
  "kernelspec": {
   "display_name": "Python 3 (ipykernel)",
   "language": "python",
   "name": "python3"
  },
  "language_info": {
   "codemirror_mode": {
    "name": "ipython",
    "version": 3
   },
   "file_extension": ".py",
   "mimetype": "text/x-python",
   "name": "python",
   "nbconvert_exporter": "python",
   "pygments_lexer": "ipython3",
   "version": "3.12.7"
  }
 },
 "nbformat": 4,
 "nbformat_minor": 5
}
